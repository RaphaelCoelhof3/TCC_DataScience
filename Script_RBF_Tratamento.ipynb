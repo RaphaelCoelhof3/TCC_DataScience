{
 "cells": [
  {
   "cell_type": "markdown",
   "id": "ce10335e",
   "metadata": {},
   "source": [
    "# SCRIPT (B)\n",
    "\n",
    "## Objetivo:\n",
    "Após realizado a aquisição de informações da Base de dados do Cadastro Nacional da Pessoa Jurídica (CNPJ) fornecidas pela Receita Federal Brasileira (RFB), o propósito deste script é tratar e organizar as informações das tabelas de SIMPLES NACIONAL e ESTABELECIMENTOS.\n",
    "Com estes dados em mão, o intuito é enriquecer os cadastros da carteira de cliente de uma empresa localizada no Distrito Federal."
   ]
  },
  {
   "cell_type": "markdown",
   "id": "7423a410",
   "metadata": {},
   "source": [
    "## Bibliotecas usadas:"
   ]
  },
  {
   "cell_type": "code",
   "execution_count": 1,
   "id": "b2c34704",
   "metadata": {},
   "outputs": [],
   "source": [
    "#Importação das bibliotecas utilizadas \n",
    "from pathlib import Path\n",
    "import pandas as pd\n",
    "import glob\n",
    "import csv"
   ]
  },
  {
   "cell_type": "markdown",
   "id": "ba5a5414",
   "metadata": {},
   "source": [
    "## Diretórios e Repositórios dos dados"
   ]
  },
  {
   "cell_type": "code",
   "execution_count": 2,
   "id": "82511c93",
   "metadata": {
    "scrolled": true
   },
   "outputs": [],
   "source": [
    "# Endereço onde serão salvos os arquivos adquiridos no portal da RFB.\n",
    "input_files = Path('C:/Users/rapha/Documents/Python_Scripts/TCC/Dados_RFB')\n",
    "\n",
    "#Pasta onde serão salvos os arquivos filtrados. \n",
    "extracted_files_filter = Path('C:/Users/rapha/Documents/Python_Scripts/TCC/Dados_RFB/Extracted_files_filter')"
   ]
  },
  {
   "cell_type": "markdown",
   "id": "2b6e12f9",
   "metadata": {},
   "source": [
    "# Aquisição de informações de CNPJ para enriquecimento dos dados"
   ]
  },
  {
   "cell_type": "markdown",
   "id": "9738b3b0",
   "metadata": {},
   "source": [
    "# DADOS DA RFB DE SIMPLES NACIONAL\n",
    "\n",
    "## O conjuntos de dados inclui informações sobre:\n",
    "\n",
    "### ANTES\n",
    "\n",
    "Cada registro representa um CNPJ básico inscrito no regime de tributação do Simples Nacional . \n",
    "\n",
    "0. cnpj_basico: Número base de inscrição no CNPJ (oito primeiros dígitos do CNPJ);\n",
    "1. opcao_pelo_simples: Indicador da existência da opção pelo SIMPLES;\n",
    "2. data_opcao_simples: Data opção pelo MEI; Simples;\n",
    "3. data_exclusao_simples: Data de exclusão do Simples;\n",
    "4. opcao_mei:Indicador da existência da opção pelo MEI;\n",
    "5. data_opçao_mei:Data opção pelo MEI;\n",
    "6. data_exclusao_mei: Data de exclusão do MEI.\n",
    "\n",
    "### DEPOIS\n",
    "\n",
    "0. cnpj_basico: Número base de inscrição no CNPJ (oito primeiros dígitos do CNPJ);\n",
    "1. opcao_pelo_simples: Indicador da existência da opção pelo SIMPLES;\n",
    "2. opcao_mei:Indicador da existência da opção pelo MEI;"
   ]
  },
  {
   "cell_type": "code",
   "execution_count": 3,
   "id": "3a572ca3",
   "metadata": {},
   "outputs": [],
   "source": [
    "# Cria uma lista e adiciona os arquivos SIMPLES da pasta nesta lista:\n",
    "list_arquivos_Simples=[]\n",
    "\n",
    "for arquivos in glob.glob(str(Path(f'{extracted_files_filter}' + '/' + '*SIMPLES*.csv'))):\n",
    "    list_arquivos_Simples.append(arquivos)"
   ]
  },
  {
   "cell_type": "code",
   "execution_count": 4,
   "id": "61ca252e",
   "metadata": {},
   "outputs": [],
   "source": [
    "#Realiza a leitura de cada arquivo adicionado na lista\n",
    "tabela_simples=[]\n",
    "\n",
    "for arquivos in list_arquivos_Simples:\n",
    "    tabela_simples.append(pd.read_csv(arquivos, index_col=False, usecols=[1,2,3]))"
   ]
  },
  {
   "cell_type": "code",
   "execution_count": 5,
   "id": "7f3e56b9",
   "metadata": {},
   "outputs": [
    {
     "data": {
      "text/html": [
       "<div>\n",
       "<style scoped>\n",
       "    .dataframe tbody tr th:only-of-type {\n",
       "        vertical-align: middle;\n",
       "    }\n",
       "\n",
       "    .dataframe tbody tr th {\n",
       "        vertical-align: top;\n",
       "    }\n",
       "\n",
       "    .dataframe thead th {\n",
       "        text-align: right;\n",
       "    }\n",
       "</style>\n",
       "<table border=\"1\" class=\"dataframe\">\n",
       "  <thead>\n",
       "    <tr style=\"text-align: right;\">\n",
       "      <th></th>\n",
       "      <th>cnpj_basico</th>\n",
       "      <th>opcao_pelo_simples</th>\n",
       "      <th>opcao_mei</th>\n",
       "    </tr>\n",
       "  </thead>\n",
       "  <tbody>\n",
       "    <tr>\n",
       "      <th>0</th>\n",
       "      <td>0</td>\n",
       "      <td>N</td>\n",
       "      <td>N</td>\n",
       "    </tr>\n",
       "    <tr>\n",
       "      <th>1</th>\n",
       "      <td>6</td>\n",
       "      <td>N</td>\n",
       "      <td>N</td>\n",
       "    </tr>\n",
       "    <tr>\n",
       "      <th>2</th>\n",
       "      <td>8</td>\n",
       "      <td>N</td>\n",
       "      <td>N</td>\n",
       "    </tr>\n",
       "    <tr>\n",
       "      <th>3</th>\n",
       "      <td>11</td>\n",
       "      <td>S</td>\n",
       "      <td>N</td>\n",
       "    </tr>\n",
       "    <tr>\n",
       "      <th>4</th>\n",
       "      <td>13</td>\n",
       "      <td>S</td>\n",
       "      <td>N</td>\n",
       "    </tr>\n",
       "  </tbody>\n",
       "</table>\n",
       "</div>"
      ],
      "text/plain": [
       "   cnpj_basico opcao_pelo_simples opcao_mei\n",
       "0            0                  N         N\n",
       "1            6                  N         N\n",
       "2            8                  N         N\n",
       "3           11                  S         N\n",
       "4           13                  S         N"
      ]
     },
     "execution_count": 5,
     "metadata": {},
     "output_type": "execute_result"
    }
   ],
   "source": [
    "#Concatena os resultados obtidos referente a informação de Simples Naconal\n",
    "tb_simples = pd.concat(tabela_simples)\n",
    "tb_simples.head()"
   ]
  },
  {
   "cell_type": "code",
   "execution_count": 6,
   "id": "b749e81c",
   "metadata": {},
   "outputs": [
    {
     "name": "stdout",
     "output_type": "stream",
     "text": [
      "<class 'pandas.core.frame.DataFrame'>\n",
      "RangeIndex: 30786307 entries, 0 to 30786306\n",
      "Data columns (total 3 columns):\n",
      " #   Column              Dtype \n",
      "---  ------              ----- \n",
      " 0   cnpj_basico         int64 \n",
      " 1   opcao_pelo_simples  object\n",
      " 2   opcao_mei           object\n",
      "dtypes: int64(1), object(2)\n",
      "memory usage: 704.6+ MB\n"
     ]
    }
   ],
   "source": [
    "tb_simples.info()"
   ]
  },
  {
   "cell_type": "code",
   "execution_count": 7,
   "id": "9aa708e7",
   "metadata": {},
   "outputs": [
    {
     "data": {
      "text/plain": [
       "cnpj_basico           0\n",
       "opcao_pelo_simples    0\n",
       "opcao_mei             0\n",
       "dtype: int64"
      ]
     },
     "execution_count": 7,
     "metadata": {},
     "output_type": "execute_result"
    }
   ],
   "source": [
    "#Identificando a presença de dados faltantes para posterior tratamento;\n",
    "tb_simples.isna().sum()"
   ]
  },
  {
   "cell_type": "markdown",
   "id": "a663475e",
   "metadata": {},
   "source": [
    "# DADOS DA RFB DE ESTABELECIMENTOS:\n",
    "\n",
    "## O conjuntos de dados inclui informações sobre:\n",
    "\n",
    "Cada registro representa um Estabelecimento.. \n",
    "\n",
    "### ANTES\n",
    "\n",
    "0. cnpj_basico: Número base de inscrição no CNPJ (oito primeiros dígitos do CNPJ);\n",
    "1. cnpj_ordem: Número do Estabelecimento de inscrição no CNPJ (do nono até o décimo segundo dígito do CNPJ);\n",
    "2. cnpj_dv:Dígito Verificador do número de inscrição no CNPJ (Dois últimos dígitos do CNPJ);\n",
    "3. identificador_matriz_filial: Código do identificador matriz/filial (1 – matriz / 2 – filial);\n",
    "4. nome_fantasia: Corresponde ao nome fantasia;\n",
    "5. situacao_cadastral: Código da situação cadastral;(1 – nula / 2 – ativa / 3 – suspensa / 4 – inapta / 08 – baixada);\n",
    "6. data_situacao_cadastral: Data do evento da situação cadastral;\n",
    "7. motivo_situacao_cadastral: Código do motivo da situação cadastral;\n",
    "8. nome_cidade_exterior: Nome da cidade no exterior;\n",
    "9. pais: Código do país;\n",
    "10. data_inicio_atividade: Data de início da atividade;\n",
    "11. cnae_fiscal_principal: Código da atividade econômica principal do estabelecimento;\n",
    "12. cnae_fiscal_secundaria: Código da(s) atividade(s) econômica(s) secundária(s) do estabelecimento;\n",
    "13. tipo_logradouro: Descrição do tipo de logradouro;\n",
    "14. logradouro: Nome do logradouro onde se localiza o estabelecimento;\n",
    "15. numero: Número onde se localiza o estabelecimento. Quando não houver preenchimento do número haverá ‘s/n’;\n",
    "16. complemento: Complemento para o endereço de localização do estabelecimento;\n",
    "17. bairro: Bairro onde se localiza o estabelecimento;\n",
    "18. cep: Código de endereçamento postal referente ao logradouro no qual o estabelecimento está localizado;\n",
    "19. uf: Sigla da unidade da federação em que se encontra o estabelecimento;\n",
    "20. municipio: Código do município de jurisdição onde se encontra o estabelecimento;\n",
    "21. ddd_1: Contém o ddd 1;\n",
    "22. telefone_1: Contém o número do telefone 1;\n",
    "23. ddd_2: Contém o ddd 2;\n",
    "24. telefone_2: Contém o número do telefone 2;\n",
    "25. ddd_fax: Contém o ddd do fax;\n",
    "26. fax: Contém o número do fax;\n",
    "27. correio_eletronico: Contém o e-mail do contribuinte;\n",
    "28. situacao_especial: Situação especial da empresa;\n",
    "29. data_situacao_especial: Data em que a empresa entrou em situação especial;\n",
    "\n",
    "### DEPOIS\n",
    "\n",
    "0. cnpj_basico: Número base de inscrição no CNPJ (oito primeiros dígitos do CNPJ);\n",
    "1. cnpj_ordem: Número do Estabelecimento de inscrição no CNPJ (do nono até o décimo segundo dígito do CNPJ);\n",
    "2. cnpj_dv:Dígito Verificador do número de inscrição no CNPJ (Dois últimos dígitos do CNPJ);\n",
    "3. identificador_matriz_filial: Código do identificador matriz/filial (1 – matriz / 0 – filial);\n",
    "4. situacao_cadastral: Código da situação cadastral;(1 – nula / 2 – ativa / 3 – suspensa / 4 – inapta / 08 – baixada);\n",
    "5. motivo_situacao_cadastral: Código do motivo da situação cadastral;\n",
    "6. data_inicio_atividade: Data de início da atividade;\n",
    "7. bairro: Bairro onde se localiza o estabelecimento;\n",
    "8. uf: Sigla da unidade da federação em que se encontra o estabelecimento;\n",
    "9. municipio: Código do município de jurisdição onde se encontra o estabelecimento;"
   ]
  },
  {
   "cell_type": "code",
   "execution_count": 8,
   "id": "e1909645",
   "metadata": {},
   "outputs": [],
   "source": [
    "# Cria uma lista e adiciona os arquivos de ESTABELECIMENTO da pasta nesta lista: \n",
    "list_arquivos_estabelecimento=[]\n",
    "\n",
    "for arquivos in glob.glob(str(Path(f'{extracted_files_filter}' + '/' + '*ESTABELE*.csv'))):\n",
    "    list_arquivos_estabelecimento.append(arquivos)"
   ]
  },
  {
   "cell_type": "code",
   "execution_count": 9,
   "id": "0915e247",
   "metadata": {},
   "outputs": [],
   "source": [
    "#Realiza a leitura de cada arquivo adicionado na lista\n",
    "tabelas_estabelecimento=[]\n",
    "\n",
    "for arquivos in list_arquivos_estabelecimento:\n",
    "    tabelas_estabelecimento.append(pd.read_csv(arquivos, index_col=False, usecols=[1,2,3,4,5,6,8,9]))"
   ]
  },
  {
   "cell_type": "code",
   "execution_count": 10,
   "id": "648d57ae",
   "metadata": {},
   "outputs": [
    {
     "data": {
      "text/html": [
       "<div>\n",
       "<style scoped>\n",
       "    .dataframe tbody tr th:only-of-type {\n",
       "        vertical-align: middle;\n",
       "    }\n",
       "\n",
       "    .dataframe tbody tr th {\n",
       "        vertical-align: top;\n",
       "    }\n",
       "\n",
       "    .dataframe thead th {\n",
       "        text-align: right;\n",
       "    }\n",
       "</style>\n",
       "<table border=\"1\" class=\"dataframe\">\n",
       "  <thead>\n",
       "    <tr style=\"text-align: right;\">\n",
       "      <th></th>\n",
       "      <th>cnpj_basico</th>\n",
       "      <th>cnpj_ordem</th>\n",
       "      <th>cnpj_dv</th>\n",
       "      <th>identificador_matriz_filial</th>\n",
       "      <th>Situacao_Cadastral</th>\n",
       "      <th>data_inicio_atividade</th>\n",
       "      <th>uf</th>\n",
       "      <th>municipio</th>\n",
       "    </tr>\n",
       "  </thead>\n",
       "  <tbody>\n",
       "    <tr>\n",
       "      <th>0</th>\n",
       "      <td>26413435</td>\n",
       "      <td>1</td>\n",
       "      <td>51</td>\n",
       "      <td>1</td>\n",
       "      <td>4</td>\n",
       "      <td>19900320</td>\n",
       "      <td>DF</td>\n",
       "      <td>9701</td>\n",
       "    </tr>\n",
       "    <tr>\n",
       "      <th>1</th>\n",
       "      <td>26414656</td>\n",
       "      <td>1</td>\n",
       "      <td>44</td>\n",
       "      <td>1</td>\n",
       "      <td>4</td>\n",
       "      <td>19900323</td>\n",
       "      <td>DF</td>\n",
       "      <td>9701</td>\n",
       "    </tr>\n",
       "    <tr>\n",
       "      <th>2</th>\n",
       "      <td>26418335</td>\n",
       "      <td>1</td>\n",
       "      <td>18</td>\n",
       "      <td>1</td>\n",
       "      <td>4</td>\n",
       "      <td>19900405</td>\n",
       "      <td>DF</td>\n",
       "      <td>9701</td>\n",
       "    </tr>\n",
       "    <tr>\n",
       "      <th>3</th>\n",
       "      <td>26419762</td>\n",
       "      <td>1</td>\n",
       "      <td>10</td>\n",
       "      <td>1</td>\n",
       "      <td>4</td>\n",
       "      <td>19900411</td>\n",
       "      <td>DF</td>\n",
       "      <td>9701</td>\n",
       "    </tr>\n",
       "    <tr>\n",
       "      <th>4</th>\n",
       "      <td>26434001</td>\n",
       "      <td>1</td>\n",
       "      <td>38</td>\n",
       "      <td>1</td>\n",
       "      <td>2</td>\n",
       "      <td>19900607</td>\n",
       "      <td>DF</td>\n",
       "      <td>9701</td>\n",
       "    </tr>\n",
       "  </tbody>\n",
       "</table>\n",
       "</div>"
      ],
      "text/plain": [
       "   cnpj_basico  cnpj_ordem  cnpj_dv  identificador_matriz_filial  \\\n",
       "0     26413435           1       51                            1   \n",
       "1     26414656           1       44                            1   \n",
       "2     26418335           1       18                            1   \n",
       "3     26419762           1       10                            1   \n",
       "4     26434001           1       38                            1   \n",
       "\n",
       "   Situacao_Cadastral  data_inicio_atividade  uf  municipio  \n",
       "0                   4               19900320  DF       9701  \n",
       "1                   4               19900323  DF       9701  \n",
       "2                   4               19900405  DF       9701  \n",
       "3                   4               19900411  DF       9701  \n",
       "4                   2               19900607  DF       9701  "
      ]
     },
     "execution_count": 10,
     "metadata": {},
     "output_type": "execute_result"
    }
   ],
   "source": [
    "#Concatena os resultados obtidos referente a informação de Estabelecimento\n",
    "tb_estabelecimento = pd.concat(tabelas_estabelecimento)\n",
    "tb_estabelecimento.head()"
   ]
  },
  {
   "cell_type": "code",
   "execution_count": 11,
   "id": "76a9e239",
   "metadata": {},
   "outputs": [
    {
     "name": "stdout",
     "output_type": "stream",
     "text": [
      "<class 'pandas.core.frame.DataFrame'>\n",
      "Int64Index: 869547 entries, 0 to 80968\n",
      "Data columns (total 8 columns):\n",
      " #   Column                       Non-Null Count   Dtype \n",
      "---  ------                       --------------   ----- \n",
      " 0   cnpj_basico                  869547 non-null  int64 \n",
      " 1   cnpj_ordem                   869547 non-null  int64 \n",
      " 2   cnpj_dv                      869547 non-null  int64 \n",
      " 3   identificador_matriz_filial  869547 non-null  int64 \n",
      " 4   Situacao_Cadastral           869547 non-null  int64 \n",
      " 5   data_inicio_atividade        869547 non-null  int64 \n",
      " 6   uf                           869547 non-null  object\n",
      " 7   municipio                    869547 non-null  int64 \n",
      "dtypes: int64(7), object(1)\n",
      "memory usage: 59.7+ MB\n"
     ]
    }
   ],
   "source": [
    "tb_estabelecimento.info()"
   ]
  },
  {
   "cell_type": "code",
   "execution_count": 12,
   "id": "c4732971",
   "metadata": {},
   "outputs": [
    {
     "data": {
      "text/plain": [
       "cnpj_basico                    0\n",
       "cnpj_ordem                     0\n",
       "cnpj_dv                        0\n",
       "identificador_matriz_filial    0\n",
       "Situacao_Cadastral             0\n",
       "data_inicio_atividade          0\n",
       "uf                             0\n",
       "municipio                      0\n",
       "dtype: int64"
      ]
     },
     "execution_count": 12,
     "metadata": {},
     "output_type": "execute_result"
    }
   ],
   "source": [
    "#Identificando a presença de dados faltantes para posterior tratamento;\n",
    "tb_estabelecimento.isna().sum()"
   ]
  },
  {
   "cell_type": "markdown",
   "id": "c4d5446f",
   "metadata": {},
   "source": [
    "## Concatenando os resultados obtidos: SIMPLES + ESTABELECIMENTOS"
   ]
  },
  {
   "cell_type": "code",
   "execution_count": 13,
   "id": "0d07c88a",
   "metadata": {},
   "outputs": [],
   "source": [
    "#Concatenando as tabelas de Simples Nacional com a de Estabelecimentos.\n",
    "simples_estabelecimento = pd.merge(tb_estabelecimento,tb_simples, on=['cnpj_basico','cnpj_basico'],how='left')"
   ]
  },
  {
   "cell_type": "code",
   "execution_count": 14,
   "id": "b49668d4",
   "metadata": {},
   "outputs": [
    {
     "data": {
      "text/html": [
       "<div>\n",
       "<style scoped>\n",
       "    .dataframe tbody tr th:only-of-type {\n",
       "        vertical-align: middle;\n",
       "    }\n",
       "\n",
       "    .dataframe tbody tr th {\n",
       "        vertical-align: top;\n",
       "    }\n",
       "\n",
       "    .dataframe thead th {\n",
       "        text-align: right;\n",
       "    }\n",
       "</style>\n",
       "<table border=\"1\" class=\"dataframe\">\n",
       "  <thead>\n",
       "    <tr style=\"text-align: right;\">\n",
       "      <th></th>\n",
       "      <th>cnpj_basico</th>\n",
       "      <th>cnpj_ordem</th>\n",
       "      <th>cnpj_dv</th>\n",
       "      <th>identificador_matriz_filial</th>\n",
       "      <th>Situacao_Cadastral</th>\n",
       "      <th>data_inicio_atividade</th>\n",
       "      <th>uf</th>\n",
       "      <th>municipio</th>\n",
       "      <th>opcao_pelo_simples</th>\n",
       "      <th>opcao_mei</th>\n",
       "    </tr>\n",
       "  </thead>\n",
       "  <tbody>\n",
       "    <tr>\n",
       "      <th>0</th>\n",
       "      <td>26413435</td>\n",
       "      <td>1</td>\n",
       "      <td>51</td>\n",
       "      <td>1</td>\n",
       "      <td>4</td>\n",
       "      <td>19900320</td>\n",
       "      <td>DF</td>\n",
       "      <td>9701</td>\n",
       "      <td>0</td>\n",
       "      <td>0</td>\n",
       "    </tr>\n",
       "    <tr>\n",
       "      <th>1</th>\n",
       "      <td>26414656</td>\n",
       "      <td>1</td>\n",
       "      <td>44</td>\n",
       "      <td>1</td>\n",
       "      <td>4</td>\n",
       "      <td>19900323</td>\n",
       "      <td>DF</td>\n",
       "      <td>9701</td>\n",
       "      <td>0</td>\n",
       "      <td>0</td>\n",
       "    </tr>\n",
       "    <tr>\n",
       "      <th>2</th>\n",
       "      <td>26418335</td>\n",
       "      <td>1</td>\n",
       "      <td>18</td>\n",
       "      <td>1</td>\n",
       "      <td>4</td>\n",
       "      <td>19900405</td>\n",
       "      <td>DF</td>\n",
       "      <td>9701</td>\n",
       "      <td>0</td>\n",
       "      <td>0</td>\n",
       "    </tr>\n",
       "    <tr>\n",
       "      <th>3</th>\n",
       "      <td>26419762</td>\n",
       "      <td>1</td>\n",
       "      <td>10</td>\n",
       "      <td>1</td>\n",
       "      <td>4</td>\n",
       "      <td>19900411</td>\n",
       "      <td>DF</td>\n",
       "      <td>9701</td>\n",
       "      <td>0</td>\n",
       "      <td>0</td>\n",
       "    </tr>\n",
       "    <tr>\n",
       "      <th>4</th>\n",
       "      <td>26434001</td>\n",
       "      <td>1</td>\n",
       "      <td>38</td>\n",
       "      <td>1</td>\n",
       "      <td>2</td>\n",
       "      <td>19900607</td>\n",
       "      <td>DF</td>\n",
       "      <td>9701</td>\n",
       "      <td>0</td>\n",
       "      <td>0</td>\n",
       "    </tr>\n",
       "  </tbody>\n",
       "</table>\n",
       "</div>"
      ],
      "text/plain": [
       "   cnpj_basico  cnpj_ordem  cnpj_dv  identificador_matriz_filial  \\\n",
       "0     26413435           1       51                            1   \n",
       "1     26414656           1       44                            1   \n",
       "2     26418335           1       18                            1   \n",
       "3     26419762           1       10                            1   \n",
       "4     26434001           1       38                            1   \n",
       "\n",
       "   Situacao_Cadastral  data_inicio_atividade  uf  municipio  \\\n",
       "0                   4               19900320  DF       9701   \n",
       "1                   4               19900323  DF       9701   \n",
       "2                   4               19900405  DF       9701   \n",
       "3                   4               19900411  DF       9701   \n",
       "4                   2               19900607  DF       9701   \n",
       "\n",
       "  opcao_pelo_simples opcao_mei  \n",
       "0                  0         0  \n",
       "1                  0         0  \n",
       "2                  0         0  \n",
       "3                  0         0  \n",
       "4                  0         0  "
      ]
     },
     "execution_count": 14,
     "metadata": {},
     "output_type": "execute_result"
    }
   ],
   "source": [
    "# Conversão das labels de 'S' e 'N' para 0 e 1:\n",
    "simples_estabelecimento['opcao_pelo_simples'].fillna('0', inplace=True)\n",
    "simples_estabelecimento['opcao_pelo_simples'].replace('N',0, inplace=True)\n",
    "simples_estabelecimento['opcao_pelo_simples'].replace('S',1, inplace=True)\n",
    "simples_estabelecimento['opcao_mei'].fillna('0', inplace=True)\n",
    "simples_estabelecimento['opcao_mei'].replace('N',0, inplace=True)\n",
    "simples_estabelecimento['opcao_mei'].replace('S',1, inplace=True)\n",
    "\n",
    "# Conversão das labels '2' para 0 no campo identificador_matriz_filial:\n",
    "simples_estabelecimento['identificador_matriz_filial'].replace(2,0, inplace=True)\n",
    "\n",
    "simples_estabelecimento.head()"
   ]
  },
  {
   "cell_type": "code",
   "execution_count": 15,
   "id": "3a1f2686",
   "metadata": {},
   "outputs": [],
   "source": [
    "#Criação do arquivo CSV\n",
    "filepath = (str(Path(f'{input_files}' + '/' + 'simples_estabelecimento.csv'))) \n",
    "simples_estabelecimento.to_csv(path_or_buf=filepath, sep=';', na_rep='', header=True, index=True, index_label='index', encoding='utf-8')  "
   ]
  },
  {
   "cell_type": "code",
   "execution_count": null,
   "id": "147ce698",
   "metadata": {},
   "outputs": [],
   "source": []
  }
 ],
 "metadata": {
  "kernelspec": {
   "display_name": "Python 3 (ipykernel)",
   "language": "python",
   "name": "python3"
  },
  "language_info": {
   "codemirror_mode": {
    "name": "ipython",
    "version": 3
   },
   "file_extension": ".py",
   "mimetype": "text/x-python",
   "name": "python",
   "nbconvert_exporter": "python",
   "pygments_lexer": "ipython3",
   "version": "3.9.7"
  }
 },
 "nbformat": 4,
 "nbformat_minor": 5
}
