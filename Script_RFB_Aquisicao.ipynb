{
 "cells": [
  {
   "cell_type": "code",
   "execution_count": null,
   "id": "aeb7f2f0",
   "metadata": {},
   "outputs": [],
   "source": []
  },
  {
   "cell_type": "markdown",
   "id": "ce10335e",
   "metadata": {},
   "source": [
    "# SCRIPT (A)\n",
    "\n",
    "## Objetivo:\n",
    "Realizar a aquisição de informações da Base de dados do Cadastro Nacional da Pessoa Jurídica (CNPJ) fornecidas pela Receita Federal Brasileira (RFB). O propósito do script é utilizar técnicas de raspagem na web para baixar, tratar e organizar as informações com o intuito de enriquecer outros dados utilizados neste trabalho."
   ]
  },
  {
   "cell_type": "markdown",
   "id": "7423a410",
   "metadata": {},
   "source": [
    "## Bibliotecas usadas:"
   ]
  },
  {
   "cell_type": "code",
   "execution_count": 1,
   "id": "b2c34704",
   "metadata": {},
   "outputs": [],
   "source": [
    "#Importação das bibliotecas utilizadas \n",
    "import os\n",
    "from pathlib import Path\n",
    "import urllib\n",
    "import bs4 as bs\n",
    "import re\n",
    "import sys\n",
    "import wget\n",
    "import pandas as pd\n",
    "import zipfile"
   ]
  },
  {
   "cell_type": "markdown",
   "id": "ba5a5414",
   "metadata": {},
   "source": [
    "## Diretórios e Repositórios dos dados"
   ]
  },
  {
   "cell_type": "code",
   "execution_count": 2,
   "id": "82511c93",
   "metadata": {},
   "outputs": [],
   "source": [
    "#Diretório de armazenamento dos arquivos. \n",
    "\n",
    "### RECEITA FEDERAL BRASILEIRA ###\n",
    "\n",
    "#Endereço web dos dados da RFB.\n",
    "dados_rf = 'http://200.152.38.155/CNPJ/'\n",
    "\n",
    "# Endereço onde serão salvos os arquivos adquiridos no portal da RFB.\n",
    "input_files = Path('C:/Users/rapha/Documents/Python_Scripts/TCC/Dados_RFB')\n",
    "\n",
    "\n",
    "#Pasta onde serão extraidos os dados do portal da RFB.\n",
    "extracted_files = Path('C:/Users/rapha/Documents/Python_Scripts/TCC/Dados_RFB/Extracted_files')\n",
    "\n",
    "#Pasta onde serão salvos os arquivos filtrados. \n",
    "extracted_files_filter = Path('C:/Users/rapha/Documents/Python_Scripts/TCC/Dados_RFB/Extracted_files_filter')\n"
   ]
  },
  {
   "cell_type": "markdown",
   "id": "2b6e12f9",
   "metadata": {},
   "source": [
    "# Aquisição de informações de CNPJ para enriquecimento dos dados"
   ]
  },
  {
   "cell_type": "markdown",
   "id": "770d87c2",
   "metadata": {},
   "source": [
    "### Arquivos de CNPJ encontrados na RFB"
   ]
  },
  {
   "cell_type": "code",
   "execution_count": 3,
   "id": "ebd0cdc1",
   "metadata": {},
   "outputs": [],
   "source": [
    "#Lendo e abrindo o portal da RFB.\n",
    "html_rfb = urllib.request.urlopen(dados_rf)\n",
    "html_rfb = html_rfb.read()\n",
    "\n",
    "#Webschaping: Uso de beautifulSoup para extrair os dados de HTML.\n",
    "page_items = bs.BeautifulSoup(html_rfb, 'lxml')\n",
    "html_str = str(page_items)"
   ]
  },
  {
   "cell_type": "code",
   "execution_count": 4,
   "id": "8ee970b4",
   "metadata": {},
   "outputs": [
    {
     "name": "stdout",
     "output_type": "stream",
     "text": [
      "Arquivos encontrados:\n",
      "F.K03200$W.SIMPLES.CSV.D20312.zip\n",
      "F.K03200$Z.D20312.CNAECSV.zip\n",
      "F.K03200$Z.D20312.MOTICSV.zip\n",
      "F.K03200$Z.D20312.MUNICCSV.zip\n",
      "F.K03200$Z.D20312.NATJUCSV.zip\n",
      "F.K03200$Z.D20312.PAISCSV.zip\n",
      "F.K03200$Z.D20312.QUALSCSV.zip\n",
      "K3241.K03200Y0.D20312.EMPRECSV.zip\n",
      "K3241.K03200Y0.D20312.ESTABELE.zip\n",
      "K3241.K03200Y0.D20312.SOCIOCSV.zip\n",
      "K3241.K03200Y1.D20312.EMPRECSV.zip\n",
      "K3241.K03200Y1.D20312.ESTABELE.zip\n",
      "K3241.K03200Y1.D20312.SOCIOCSV.zip\n",
      "K3241.K03200Y2.D20312.EMPRECSV.zip\n",
      "K3241.K03200Y2.D20312.ESTABELE.zip\n",
      "K3241.K03200Y2.D20312.SOCIOCSV.zip\n",
      "K3241.K03200Y3.D20312.EMPRECSV.zip\n",
      "K3241.K03200Y3.D20312.ESTABELE.zip\n",
      "K3241.K03200Y3.D20312.SOCIOCSV.zip\n",
      "K3241.K03200Y4.D20312.EMPRECSV.zip\n",
      "K3241.K03200Y4.D20312.ESTABELE.zip\n",
      "K3241.K03200Y4.D20312.SOCIOCSV.zip\n",
      "K3241.K03200Y5.D20312.EMPRECSV.zip\n",
      "K3241.K03200Y5.D20312.ESTABELE.zip\n",
      "K3241.K03200Y5.D20312.SOCIOCSV.zip\n",
      "K3241.K03200Y6.D20312.EMPRECSV.zip\n",
      "K3241.K03200Y6.D20312.ESTABELE.zip\n",
      "K3241.K03200Y6.D20312.SOCIOCSV.zip\n",
      "K3241.K03200Y7.D20312.EMPRECSV.zip\n",
      "K3241.K03200Y7.D20312.ESTABELE.zip\n",
      "K3241.K03200Y7.D20312.SOCIOCSV.zip\n",
      "K3241.K03200Y8.D20312.EMPRECSV.zip\n",
      "K3241.K03200Y8.D20312.ESTABELE.zip\n",
      "K3241.K03200Y8.D20312.SOCIOCSV.zip\n",
      "K3241.K03200Y9.D20312.EMPRECSV.zip\n",
      "K3241.K03200Y9.D20312.ESTABELE.zip\n",
      "K3241.K03200Y9.D20312.SOCIOCSV.zip\n"
     ]
    }
   ],
   "source": [
    "#Construindo uma lista com os nomes dos arquivos disponíveis para download.\n",
    "print('Arquivos encontrados:')\n",
    "Files = []\n",
    "text = '.zip'\n",
    "for m in re.finditer(text, html_str):\n",
    "    i_start = m.start()-40\n",
    "    i_end = m.end()\n",
    "    i_loc = html_str[i_start:i_end].find('href=')+6\n",
    "    print(html_str[i_start+i_loc:i_end])\n",
    "    Files.append(html_str[i_start+i_loc:i_end])"
   ]
  },
  {
   "cell_type": "markdown",
   "id": "df7fe721",
   "metadata": {},
   "source": [
    "### Separando apenas dados dos CSV's:\n",
    "\n",
    "### 1. ESTABELECIMENTO;    2. SIMPLES NACIONAL"
   ]
  },
  {
   "cell_type": "code",
   "execution_count": 5,
   "id": "d3a6bd5b",
   "metadata": {},
   "outputs": [],
   "source": [
    "# Separarando apenas os arquivos de interesse: SIMPLES / ESTABELECIMENTOS\n",
    "Items = [name for name in Files if name.endswith('')]\n",
    "\n",
    "arquivos_estabelecimento = []\n",
    "arquivos_simples = []\n",
    "for i in range(len(Items)):\n",
    "    if Items[i].find('ESTABELE') > -1:\n",
    "        arquivos_estabelecimento.append(Items[i])\n",
    "    elif Items[i].find('SIMPLES') > -1:\n",
    "        arquivos_simples.append(Items[i])\n",
    "    else:\n",
    "        pass"
   ]
  },
  {
   "cell_type": "markdown",
   "id": "6332c0c0",
   "metadata": {},
   "source": [
    "## Download dos arquivos separados da RFB"
   ]
  },
  {
   "cell_type": "code",
   "execution_count": 6,
   "id": "c6731602",
   "metadata": {},
   "outputs": [],
   "source": [
    "#Definindo uma barra de progresso default para acompanhamento da evolução de download.\n",
    "def bar_custom(current, total, width=80):\n",
    "    alert = \"Downloading: %d%% [%d / %d] bytes\" % (current / total * 100, current, total)\n",
    "    sys.stdout.write(\"\\r\" + alert)\n",
    "    sys.stdout.flush() "
   ]
  },
  {
   "cell_type": "code",
   "execution_count": null,
   "id": "32f1a7b7",
   "metadata": {
    "scrolled": true
   },
   "outputs": [],
   "source": [
    "# Download dos arquivos_simples\n",
    "i_l = 0\n",
    "for l in arquivos_simples:\n",
    "    i_l += 1\n",
    "    print('Baixando arquivo:')\n",
    "    print(str(i_l) + ' - ' + l)\n",
    "    url = dados_rf+l\n",
    "    wget.download(url, out=(str(input_files)), bar=bar_custom)\n",
    "print('Finish')"
   ]
  },
  {
   "cell_type": "code",
   "execution_count": null,
   "id": "52d07d6a",
   "metadata": {},
   "outputs": [],
   "source": [
    "# Download dos arquivos_estabelecimento\n",
    "i_l = 0\n",
    "for l in arquivos_estabelecimento:\n",
    "    i_l += 1\n",
    "    print('Baixando arquivo:')\n",
    "    print(str(i_l) + ' - ' + l)\n",
    "    url = dados_rf+l\n",
    "    wget.download(url, out=(str(input_files)), bar=bar_custom)\n",
    "print('Finish')"
   ]
  },
  {
   "cell_type": "code",
   "execution_count": 7,
   "id": "834b2f5b",
   "metadata": {},
   "outputs": [],
   "source": [
    "# criação do diretório extracted files:\n",
    "if not os.path.exists(extracted_files):\n",
    "  os.makedirs(extracted_files)"
   ]
  },
  {
   "cell_type": "code",
   "execution_count": 8,
   "id": "2233b7d1",
   "metadata": {},
   "outputs": [
    {
     "data": {
      "text/plain": [
       "['K3241.K03200Y0.D20312.ESTABELE.zip',\n",
       " 'K3241.K03200Y1.D20312.ESTABELE.zip',\n",
       " 'K3241.K03200Y2.D20312.ESTABELE.zip',\n",
       " 'K3241.K03200Y3.D20312.ESTABELE.zip',\n",
       " 'K3241.K03200Y4.D20312.ESTABELE.zip',\n",
       " 'K3241.K03200Y5.D20312.ESTABELE.zip',\n",
       " 'K3241.K03200Y6.D20312.ESTABELE.zip',\n",
       " 'K3241.K03200Y7.D20312.ESTABELE.zip',\n",
       " 'K3241.K03200Y8.D20312.ESTABELE.zip',\n",
       " 'K3241.K03200Y9.D20312.ESTABELE.zip',\n",
       " 'F.K03200$W.SIMPLES.CSV.D20312.zip']"
      ]
     },
     "execution_count": 8,
     "metadata": {},
     "output_type": "execute_result"
    }
   ],
   "source": [
    "#concatenar as listas de interesse\n",
    "Files = arquivos_estabelecimento + arquivos_simples\n",
    "Files"
   ]
  },
  {
   "cell_type": "code",
   "execution_count": null,
   "id": "182e7b68",
   "metadata": {},
   "outputs": [],
   "source": [
    "#Descompactando arquivo\n",
    "i_l = 0\n",
    "for l in Files:\n",
    "    try:\n",
    "        i_l += 1\n",
    "        print('Descompactando arquivo:')\n",
    "        print(str(i_l) + ' - ' + l)\n",
    "        with zipfile.ZipFile(input_files / l, 'r') as zip_ref:\n",
    "            zip_ref.extractall(extracted_files)\n",
    "    except:\n",
    "        pass"
   ]
  },
  {
   "cell_type": "code",
   "execution_count": 9,
   "id": "dbe7a388",
   "metadata": {},
   "outputs": [],
   "source": [
    "# Files:\n",
    "Items = [name for name in os.listdir(extracted_files) if name.endswith('')]\n"
   ]
  },
  {
   "cell_type": "code",
   "execution_count": 10,
   "id": "87ed9a58",
   "metadata": {},
   "outputs": [],
   "source": [
    "# Separar arquivos:\n",
    "arquivos_estabelecimento = []\n",
    "arquivos_simples = []\n",
    "\n",
    "for i in range(len(Items)):\n",
    "    if Items[i].find('ESTABELE') > -1:\n",
    "        arquivos_estabelecimento.append(Items[i])\n",
    "    elif Items[i].find('SIMPLES') > -1:\n",
    "        arquivos_simples.append(Items[i])\n",
    "    else:\n",
    "        pass"
   ]
  },
  {
   "cell_type": "markdown",
   "id": "9738b3b0",
   "metadata": {},
   "source": [
    "# DADOS DA RFB DE SIMPLES NACIONAL\n",
    "\n",
    "## O conjuntos de dados inclui informações sobre:\n",
    "\n",
    "\n",
    "Cada registro representa um CNPJ básico inscrito no regime de tributação do Simples Nacional . \n",
    "\n",
    "0. cnpj_basico: Número base de inscrição no CNPJ (oito primeiros dígitos do CNPJ);\n",
    "1. opcao_pelo_simples: Indicador da existência da opção pelo SIMPLES;\n",
    "2. data_opcao_simples: Data opção pelo MEI; Simples;\n",
    "3. data_exclusao_simples: Data de exclusão do Simples;\n",
    "4. opcao_mei:Indicador da existência da opção pelo MEI;\n",
    "5. data_opçao_mei:Data opção pelo MEI;\n",
    "6. data_exclusao_mei: Data de exclusão do MEI."
   ]
  },
  {
   "cell_type": "code",
   "execution_count": 11,
   "id": "d39d33f8",
   "metadata": {},
   "outputs": [
    {
     "name": "stdout",
     "output_type": "stream",
     "text": [
      "### ! ### Leitura e registros oriundos da tabela Simples Nacional: ### ! ### \n",
      "Arquivo alvo: F.K03200$W.SIMPLES.CSV.D20212.zip [...]\n",
      "Arquivo Salvo\n",
      "Processo concluido\n"
     ]
    }
   ],
   "source": [
    "print('### ! ### Leitura e registros oriundos da tabela Simples Nacional: ### ! ### ')\n",
    "\n",
    "for e in range(0, len(arquivos_simples)):\n",
    "    print('Arquivo alvo: '+arquivos_simples[e]+' [...]')\n",
    "    \n",
    "    # Origem do arquivo:\n",
    "    extracted_file_path = Path(f'{extracted_files}/{arquivos_simples[e]}')\n",
    "    \n",
    "    #Lendo o arquivo\n",
    "    simples = pd.read_csv(filepath_or_buffer=extracted_file_path,\n",
    "                              sep=';',\n",
    "                              header=None,\n",
    "                              dtype='object',\n",
    "                              usecols = [0,1,4] )\n",
    "    \n",
    "    # Renomear as colunas segundo o layout de dados RFB\n",
    "    simples.columns = ['cnpj_basico',\n",
    "                        'opcao_pelo_simples',\n",
    "                        'opcao_mei']\n",
    "\n",
    " \n",
    "    #Salvando o arquivo no diretório    \n",
    "    simples.to_csv(Path(f'{extracted_files_filter}' + '/' + arquivos_simples[e] + '.csv'), encoding='utf=8')\n",
    "    print('Arquivo Salvo')\n",
    "    \n",
    "print('Processo concluído')  "
   ]
  },
  {
   "cell_type": "markdown",
   "id": "1f76ae26",
   "metadata": {},
   "source": [
    "# DADOS DA RFB DE ESTABELECIMENTOS:\n",
    "\n",
    "## O conjuntos de dados inclui informações sobre:\n",
    "\n",
    "Cada registro representa um Estabelecimento.. \n",
    "\n",
    "0. cod_Cliente: Código que identifica o Cliente;\n",
    "1. cnpj_basico: Número base de inscrição no CNPJ (oito primeiros dígitos do CNPJ);\n",
    "2. cnpj_ordem: Número do Estabelecimento de inscrição no CNPJ (do nono até o décimo segundo dígito do CNPJ);\n",
    "3. cnpj_dv:Dígito Verificador do número de inscrição no CNPJ (Dois últimos dígitos do CNPJ);\n",
    "4. identificador_matriz_filial: Código do identificador matriz/filial (1 – matriz / 2 – filial);\n",
    "5. nome_fantasia: Corresponde ao nome fantasia;\n",
    "6. situacao_cadastral: Código da situação cadastral;(1 – nula / 2 – ativa / 3 – suspensa / 4 – inapta / 08 – baixada);\n",
    "7. data_situacao_cadastral: Data do evento da situação cadastral;\n",
    "8. motivo_situacao_cadastral: Código do motivo da situação cadastral;\n",
    "9. nome_cidade_exterior: Nome da cidade no exterior;\n",
    "10. pais: Código do país;\n",
    "11. data_inicio_atividade: Data de início da atividade;\n",
    "12. cnae_fiscal_principal: Código da atividade econômica principal do estabelecimento;\n",
    "13. cnae_fiscal_secundaria: Código da(s) atividade(s) econômica(s) secundária(s) do estabelecimento;\n",
    "14. tipo_logradouro: Descrição do tipo de logradouro;\n",
    "15. logradouro: Nome do logradouro onde se localiza o estabelecimento;\n",
    "16. numero: Número onde se localiza o estabelecimento. Quando não houver preenchimento do número haverá ‘s/n’;\n",
    "17. complemento: Complemento para o endereço de localização do estabelecimento;\n",
    "18. bairro: Bairro onde se localiza o estabelecimento;\n",
    "19. cep: Código de endereçamento postal referente ao logradouro no qual o estabelecimento está localizado;\n",
    "20. uf: Sigla da unidade da federação em que se encontra o estabelecimento;\n",
    "21. municipio: Código do município de jurisdição onde se encontra o estabelecimento;\n",
    "22. ddd_1: Contém o ddd 1;\n",
    "23. telefone_1: Contém o número do telefone 1;\n",
    "24. ddd_2: Contém o ddd 2;\n",
    "25. telefone_2: Contém o número do telefone 2;\n",
    "26. ddd_fax: Contém o ddd do fax;\n",
    "27. fax: Contém o número do fax;\n",
    "28. correio_eletronico: Contém o e-mail do contribuinte;\n",
    "29. situacao_especial: Situação especial da empresa;\n",
    "30. data_situacao_especial: Data em que a empresa entrou em situação especial;"
   ]
  },
  {
   "cell_type": "code",
   "execution_count": 12,
   "id": "402654f3",
   "metadata": {},
   "outputs": [
    {
     "name": "stdout",
     "output_type": "stream",
     "text": [
      "### ! ### TABELA ESTABELECIMENTO ### ! ### \n",
      "Arquivo alvo: K3241.K03200Y0.D20212.ESTABELE.zip [...]\n",
      "Arquivo Salvo\n",
      "Arquivo alvo: K3241.K03200Y1.D20212.ESTABELE.zip [...]\n",
      "Arquivo Salvo\n",
      "Arquivo alvo: K3241.K03200Y2.D20212.ESTABELE.zip [...]\n",
      "Arquivo Salvo\n",
      "Arquivo alvo: K3241.K03200Y3.D20212.ESTABELE.zip [...]\n",
      "Arquivo Salvo\n",
      "Arquivo alvo: K3241.K03200Y4.D20212.ESTABELE.zip [...]\n",
      "Arquivo Salvo\n",
      "Arquivo alvo: K3241.K03200Y5.D20212.ESTABELE.zip [...]\n",
      "Arquivo Salvo\n",
      "Arquivo alvo: K3241.K03200Y6.D20212.ESTABELE.zip [...]\n",
      "Arquivo Salvo\n",
      "Arquivo alvo: K3241.K03200Y7.D20212.ESTABELE.zip [...]\n",
      "Arquivo Salvo\n",
      "Arquivo alvo: K3241.K03200Y8.D20212.ESTABELE.zip [...]\n",
      "Arquivo Salvo\n",
      "Arquivo alvo: K3241.K03200Y9.D20212.ESTABELE.zip [...]\n",
      "Arquivo Salvo\n",
      "Processo concluido\n"
     ]
    }
   ],
   "source": [
    "print('### ! ### TABELA ESTABELECIMENTO ### ! ### ')\n",
    "\n",
    "\n",
    "for e in range(0, len(arquivos_estabelecimento)):\n",
    "    print('Arquivo alvo: '+arquivos_estabelecimento[e]+' [...]')\n",
    "\n",
    "         \n",
    "    # Origem do arquivo:\n",
    "    extracted_file_path = Path(f'{extracted_files}/{arquivos_estabelecimento[e]}')\n",
    "    \n",
    "    #Lendo o arquivo\n",
    "    estabelecimento = pd.read_csv(filepath_or_buffer=extracted_file_path,\n",
    "                            sep=';',\n",
    "                            encoding= 'cp437',\n",
    "                            #engine=\"C\",\n",
    "                            header=None,\n",
    "                            dtype='object',\n",
    "                            usecols = [0,1,2,3,5,10,17,19,20])\n",
    "    \n",
    "    \n",
    "\n",
    "    # Renomear as colunas segundo o layout de dados RFB\n",
    "    estabelecimento.columns = ['cnpj_basico',\n",
    "                               'cnpj_ordem',\n",
    "                               'cnpj_dv',\n",
    "                               'identificador_matriz_filial',\n",
    "                               'Situacao_Cadastral',\n",
    "                               'data_inicio_atividade',\n",
    "                               'bairro',\n",
    "                               'uf',\n",
    "                               'municipio']\n",
    "    \n",
    "    #Filtrando apenas os estabelecimentos localizados no Distrito Federal.\n",
    "    estabelecimento_filter = estabelecimento[estabelecimento['uf'] == \"DF\"]\n",
    "    \n",
    "    #Salvando o arquivo no diretório\n",
    "    estabelecimento_filter.to_csv(Path(f'{extracted_files_filter}' + '/' + arquivos_estabelecimento[e] + '_DF.csv'), encoding='utf=8')\n",
    "\n",
    "    print('Arquivo Salvo')\n",
    "    \n",
    "print('Processo concluído')"
   ]
  }
 ],
 "metadata": {
  "kernelspec": {
   "display_name": "Python 3 (ipykernel)",
   "language": "python",
   "name": "python3"
  },
  "language_info": {
   "codemirror_mode": {
    "name": "ipython",
    "version": 3
   },
   "file_extension": ".py",
   "mimetype": "text/x-python",
   "name": "python",
   "nbconvert_exporter": "python",
   "pygments_lexer": "ipython3",
   "version": "3.9.7"
  }
 },
 "nbformat": 4,
 "nbformat_minor": 5
}
